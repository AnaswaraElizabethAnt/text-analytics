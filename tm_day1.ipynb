{
 "cells": [
  {
   "cell_type": "markdown",
   "metadata": {},
   "source": [
    "# Text Mining\n",
    "\n",
    "997-301-668"
   ]
  },
  {
   "cell_type": "code",
   "execution_count": 1,
   "metadata": {},
   "outputs": [],
   "source": [
    "import nltk"
   ]
  },
  {
   "cell_type": "code",
   "execution_count": 3,
   "metadata": {},
   "outputs": [],
   "source": [
    "#nltk.download()"
   ]
  },
  {
   "cell_type": "markdown",
   "metadata": {},
   "source": [
    "datasets link: https://github.com/skathirmani/datasets\n",
    "\n",
    "1. Modi Tweets\n",
    "2. Amazon reviews\n",
    "\n",
    "\n",
    "Topics\n",
    "======\n",
    "1. Regular expressions\n",
    "2. Web scraping\n",
    "3. Pandas - yes\n",
    "4. Scikit learn - yes"
   ]
  },
  {
   "cell_type": "code",
   "execution_count": 10,
   "metadata": {},
   "outputs": [
    {
     "data": {
      "text/html": [
       "<div>\n",
       "<style scoped>\n",
       "    .dataframe tbody tr th:only-of-type {\n",
       "        vertical-align: middle;\n",
       "    }\n",
       "\n",
       "    .dataframe tbody tr th {\n",
       "        vertical-align: top;\n",
       "    }\n",
       "\n",
       "    .dataframe thead th {\n",
       "        text-align: right;\n",
       "    }\n",
       "</style>\n",
       "<table border=\"1\" class=\"dataframe\">\n",
       "  <thead>\n",
       "    <tr style=\"text-align: right;\">\n",
       "      <th></th>\n",
       "      <th>id</th>\n",
       "      <th>retweets_count</th>\n",
       "      <th>favorite_count</th>\n",
       "      <th>created_at</th>\n",
       "      <th>text</th>\n",
       "      <th>lang</th>\n",
       "      <th>retweeted</th>\n",
       "      <th>followers_count</th>\n",
       "      <th>friends_count</th>\n",
       "      <th>hashtags_count</th>\n",
       "      <th>description</th>\n",
       "      <th>location</th>\n",
       "      <th>background_image_url</th>\n",
       "      <th>source</th>\n",
       "    </tr>\n",
       "  </thead>\n",
       "  <tbody>\n",
       "    <tr>\n",
       "      <th>0</th>\n",
       "      <td>8.263846e+17</td>\n",
       "      <td>1406.0</td>\n",
       "      <td>4903.0</td>\n",
       "      <td>2017-01-31 11:00:07</td>\n",
       "      <td>The President's address wonderfully encapsulat...</td>\n",
       "      <td>en</td>\n",
       "      <td>False</td>\n",
       "      <td>26809964.0</td>\n",
       "      <td>1641.0</td>\n",
       "      <td>1.0</td>\n",
       "      <td>Prime Minister of India</td>\n",
       "      <td>India</td>\n",
       "      <td>http://pbs.twimg.com/profile_background_images...</td>\n",
       "      <td>Twitter Web Client</td>\n",
       "    </tr>\n",
       "    <tr>\n",
       "      <th>1</th>\n",
       "      <td>8.263843e+17</td>\n",
       "      <td>907.0</td>\n",
       "      <td>2877.0</td>\n",
       "      <td>2017-01-31 10:59:12</td>\n",
       "      <td>Rashtrapati Ji's address to both Houses of Par...</td>\n",
       "      <td>en</td>\n",
       "      <td>False</td>\n",
       "      <td>26809964.0</td>\n",
       "      <td>1641.0</td>\n",
       "      <td>0.0</td>\n",
       "      <td>Prime Minister of India</td>\n",
       "      <td>India</td>\n",
       "      <td>http://pbs.twimg.com/profile_background_images...</td>\n",
       "      <td>Twitter Web Client</td>\n",
       "    </tr>\n",
       "    <tr>\n",
       "      <th>2</th>\n",
       "      <td>8.263827e+17</td>\n",
       "      <td>694.0</td>\n",
       "      <td>0.0</td>\n",
       "      <td>2017-01-31 10:52:33</td>\n",
       "      <td>RT @PMOIndia: Empowering the marginalised. htt...</td>\n",
       "      <td>en</td>\n",
       "      <td>False</td>\n",
       "      <td>26809964.0</td>\n",
       "      <td>1641.0</td>\n",
       "      <td>0.0</td>\n",
       "      <td>Prime Minister of India</td>\n",
       "      <td>India</td>\n",
       "      <td>http://pbs.twimg.com/profile_background_images...</td>\n",
       "      <td>Twitter Web Client</td>\n",
       "    </tr>\n",
       "    <tr>\n",
       "      <th>3</th>\n",
       "      <td>8.263826e+17</td>\n",
       "      <td>666.0</td>\n",
       "      <td>0.0</td>\n",
       "      <td>2017-01-31 10:52:22</td>\n",
       "      <td>RT @PMOIndia: Commitment to welfare of farmers...</td>\n",
       "      <td>en</td>\n",
       "      <td>False</td>\n",
       "      <td>26809964.0</td>\n",
       "      <td>1641.0</td>\n",
       "      <td>0.0</td>\n",
       "      <td>Prime Minister of India</td>\n",
       "      <td>India</td>\n",
       "      <td>http://pbs.twimg.com/profile_background_images...</td>\n",
       "      <td>Twitter Web Client</td>\n",
       "    </tr>\n",
       "    <tr>\n",
       "      <th>4</th>\n",
       "      <td>8.263826e+17</td>\n",
       "      <td>716.0</td>\n",
       "      <td>0.0</td>\n",
       "      <td>2017-01-31 10:52:16</td>\n",
       "      <td>RT @PMOIndia: Improving the quality of life fo...</td>\n",
       "      <td>en</td>\n",
       "      <td>False</td>\n",
       "      <td>26809964.0</td>\n",
       "      <td>1641.0</td>\n",
       "      <td>0.0</td>\n",
       "      <td>Prime Minister of India</td>\n",
       "      <td>India</td>\n",
       "      <td>http://pbs.twimg.com/profile_background_images...</td>\n",
       "      <td>Twitter Web Client</td>\n",
       "    </tr>\n",
       "  </tbody>\n",
       "</table>\n",
       "</div>"
      ],
      "text/plain": [
       "             id  retweets_count  favorite_count           created_at  \\\n",
       "0  8.263846e+17          1406.0          4903.0  2017-01-31 11:00:07   \n",
       "1  8.263843e+17           907.0          2877.0  2017-01-31 10:59:12   \n",
       "2  8.263827e+17           694.0             0.0  2017-01-31 10:52:33   \n",
       "3  8.263826e+17           666.0             0.0  2017-01-31 10:52:22   \n",
       "4  8.263826e+17           716.0             0.0  2017-01-31 10:52:16   \n",
       "\n",
       "                                                text lang  retweeted  \\\n",
       "0  The President's address wonderfully encapsulat...   en      False   \n",
       "1  Rashtrapati Ji's address to both Houses of Par...   en      False   \n",
       "2  RT @PMOIndia: Empowering the marginalised. htt...   en      False   \n",
       "3  RT @PMOIndia: Commitment to welfare of farmers...   en      False   \n",
       "4  RT @PMOIndia: Improving the quality of life fo...   en      False   \n",
       "\n",
       "   followers_count  friends_count  hashtags_count              description  \\\n",
       "0       26809964.0         1641.0             1.0  Prime Minister of India   \n",
       "1       26809964.0         1641.0             0.0  Prime Minister of India   \n",
       "2       26809964.0         1641.0             0.0  Prime Minister of India   \n",
       "3       26809964.0         1641.0             0.0  Prime Minister of India   \n",
       "4       26809964.0         1641.0             0.0  Prime Minister of India   \n",
       "\n",
       "  location                               background_image_url  \\\n",
       "0    India  http://pbs.twimg.com/profile_background_images...   \n",
       "1    India  http://pbs.twimg.com/profile_background_images...   \n",
       "2    India  http://pbs.twimg.com/profile_background_images...   \n",
       "3    India  http://pbs.twimg.com/profile_background_images...   \n",
       "4    India  http://pbs.twimg.com/profile_background_images...   \n",
       "\n",
       "               source  \n",
       "0  Twitter Web Client  \n",
       "1  Twitter Web Client  \n",
       "2  Twitter Web Client  \n",
       "3  Twitter Web Client  \n",
       "4  Twitter Web Client  "
      ]
     },
     "execution_count": 10,
     "metadata": {},
     "output_type": "execute_result"
    }
   ],
   "source": [
    "import pandas as pd\n",
    "import numpy as np\n",
    "modi = pd.read_csv('/datasets/narendramodi_tweets.csv')\n",
    "modi.shape\n",
    "modi.head()"
   ]
  },
  {
   "cell_type": "code",
   "execution_count": 6,
   "metadata": {},
   "outputs": [
    {
     "data": {
      "text/plain": [
       "'/Users/skathirmani/Documents/jupyter-notebooks'"
      ]
     },
     "execution_count": 6,
     "metadata": {},
     "output_type": "execute_result"
    }
   ],
   "source": [
    "# Check the current working directory\n",
    "import os\n",
    "os.getcwd()"
   ]
  },
  {
   "cell_type": "code",
   "execution_count": 8,
   "metadata": {},
   "outputs": [
    {
     "data": {
      "text/plain": [
       "['wordcloud.png']"
      ]
     },
     "execution_count": 8,
     "metadata": {},
     "output_type": "execute_result"
    }
   ],
   "source": [
    "# Get list of png image in the current working directory\n",
    "import glob\n",
    "glob.glob('*.png')"
   ]
  },
  {
   "cell_type": "markdown",
   "metadata": {},
   "source": [
    "### Bag of word analysis"
   ]
  },
  {
   "cell_type": "markdown",
   "metadata": {},
   "source": [
    "![wordcloud_modi](wordcloud.png)"
   ]
  },
  {
   "cell_type": "markdown",
   "metadata": {},
   "source": [
    "### Bag of words in Python\n",
    "#### Challenges in text data\n",
    "- Special characters\n",
    "- Regional language\n",
    "- Emoticons\n",
    "- Sarcasm\n",
    "- Abbreviations, semi sentence,\n",
    "- "
   ]
  },
  {
   "cell_type": "markdown",
   "metadata": {},
   "source": [
    "### Text transformations\n",
    "- Convert all text to lower case\n",
    "- Remove common stop words\n",
    "- Remove special characters\n",
    "- Apply stemming"
   ]
  },
  {
   "cell_type": "code",
   "execution_count": 12,
   "metadata": {},
   "outputs": [
    {
     "data": {
      "text/plain": [
       "0    the president's address wonderfully encapsulat...\n",
       "Name: text, dtype: object"
      ]
     },
     "execution_count": 12,
     "metadata": {},
     "output_type": "execute_result"
    }
   ],
   "source": [
    "doc = modi['text'].str.lower()\n",
    "doc.head(1)"
   ]
  },
  {
   "cell_type": "code",
   "execution_count": 23,
   "metadata": {},
   "outputs": [
    {
     "data": {
      "text/plain": [
       "0    the presidents address wonderfully encapsulate...\n",
       "1    rashtrapati jis address to both houses of parl...\n",
       "2    rt @pmoindia empowering the marginalised https...\n",
       "3    rt @pmoindia commitment to welfare of farmers ...\n",
       "4    rt @pmoindia improving the quality of life for...\n",
       "Name: text, dtype: object"
      ]
     },
     "execution_count": 23,
     "metadata": {},
     "output_type": "execute_result"
    }
   ],
   "source": [
    "#doc.head(1).str.replace('the', '-')\n",
    "#doc.head(1).str.replace('a', '-')\n",
    "#doc.head(1).str.replace('[0-9]', '')\n",
    "#doc.head(1).str.replace('[a-z]', '')\n",
    "#doc.head(1).str.replace('[^a-z]', '')\n",
    "doc_clean = doc.str.replace('[^a-z #@]', '')\n",
    "doc_clean.head()"
   ]
  },
  {
   "cell_type": "code",
   "execution_count": 37,
   "metadata": {},
   "outputs": [
    {
     "data": {
      "text/plain": [
       "['today', 'is', '#is']"
      ]
     },
     "execution_count": 37,
     "metadata": {},
     "output_type": "execute_result"
    }
   ],
   "source": [
    "#nltk.downdload('stopwords')\n",
    "x = ['is', 'this']\n",
    "\n",
    "y = 'this is not a good product'\n",
    "z = y.split(' ')\n",
    "\n",
    "np.setdiff1d(z, x)"
   ]
  },
  {
   "cell_type": "code",
   "execution_count": 46,
   "metadata": {},
   "outputs": [
    {
     "data": {
      "text/plain": [
       "'abc'"
      ]
     },
     "execution_count": 46,
     "metadata": {},
     "output_type": "execute_result"
    }
   ],
   "source": [
    "['playing', 'played', 'plays']\n",
    "\n",
    "from nltk.stem import PorterStemmer\n",
    "stemmer = PorterStemmer()\n",
    "stemmer.stem('organization')\n",
    "x = ['a', 'b', 'c']\n",
    "' '.join(x)"
   ]
  },
  {
   "cell_type": "code",
   "execution_count": 64,
   "metadata": {},
   "outputs": [],
   "source": [
    "from nltk.stem import PorterStemmer\n",
    "stopwords = nltk.corpus.stopwords.words('english')\n",
    "custom_stop_words = ['amp', 'rt']\n",
    "stopwords.extend(custom_stop_words)\n",
    "\n",
    "def row_clean(v):\n",
    "    # 1. Remove common stop words\n",
    "    terms_v = v.split(' ')\n",
    "    terms_v = [term for term in terms_v if term not in stopwords]\n",
    "    #terms_v = np.setdiff1d(terms_v, stopwords)\n",
    "    \n",
    "    # 2. Identify root of each word\n",
    "    stemmer = PorterStemmer()\n",
    "    terms_v = [stemmer.stem(term) for term in terms_v]\n",
    "    \n",
    "    return ' '.join(terms_v)\n",
    "doc_clean = doc_clean.apply(lambda v: row_clean(v))"
   ]
  },
  {
   "cell_type": "code",
   "execution_count": 65,
   "metadata": {},
   "outputs": [
    {
     "name": "stdout",
     "output_type": "stream",
     "text": [
      "Requirement already satisfied: wordcloud in /anaconda3/lib/python3.6/site-packages (1.5.0)\n",
      "Requirement already satisfied: numpy>=1.6.1 in /anaconda3/lib/python3.6/site-packages (from wordcloud) (1.15.4)\n",
      "Requirement already satisfied: pillow in /anaconda3/lib/python3.6/site-packages (from wordcloud) (5.1.0)\n",
      "\u001b[31mspacy 2.0.16 has requirement regex==2018.01.10, but you'll have regex 2018.11.2 which is incompatible.\u001b[0m\n",
      "\u001b[33mYou are using pip version 10.0.1, however version 18.1 is available.\n",
      "You should consider upgrading via the 'pip install --upgrade pip' command.\u001b[0m\n"
     ]
    }
   ],
   "source": [
    "!pip install wordcloud"
   ]
  },
  {
   "cell_type": "code",
   "execution_count": 71,
   "metadata": {},
   "outputs": [
    {
     "data": {
      "text/plain": [
       "<matplotlib.image.AxesImage at 0x1a22fbba58>"
      ]
     },
     "execution_count": 71,
     "metadata": {},
     "output_type": "execute_result"
    },
    {
     "data": {
      "image/png": "[encoded data removed]",
      "text/plain": [
       "<Figure size 432x288 with 1 Axes>"
      ]
     },
     "metadata": {},
     "output_type": "display_data"
    }
   ],
   "source": [
    "from wordcloud import WordCloud\n",
    "import matplotlib.pyplot as plt\n",
    "\n",
    "#wc = WordCloud().generate('i love india')\n",
    "wc = WordCloud().generate(' '.join(doc_clean))\n",
    "plt.imshow(wc)"
   ]
  },
  {
   "cell_type": "code",
   "execution_count": 81,
   "metadata": {},
   "outputs": [
    {
     "data": {
      "text/plain": [
       "False"
      ]
     },
     "execution_count": 81,
     "metadata": {},
     "output_type": "execute_result"
    }
   ],
   "source": [
    "x = 'india'\n",
    "x.startswith('#')"
   ]
  },
  {
   "cell_type": "markdown",
   "metadata": {},
   "source": [
    "## Hashtag analysis"
   ]
  },
  {
   "cell_type": "code",
   "execution_count": 118,
   "metadata": {},
   "outputs": [
    {
     "data": {
      "text/plain": [
       "#sandeshsoldi            110\n",
       "#mannkibaat               92\n",
       "#tirangayatra             84\n",
       "#yogaday                  53\n",
       "#transformingindia        52\n",
       "#idi                      44\n",
       "#mycleanindia             24\n",
       "#rio                      19\n",
       "#                         14\n",
       "#digidhanmela             11\n",
       "#happydiwali               9\n",
       "#iyd                       9\n",
       "#paralymp                  9\n",
       "#presidentmukherje         9\n",
       "#yoga                      9\n",
       "#swachhbharat              8\n",
       "#diwali                    8\n",
       "#internationalyogaday      7\n",
       "#republicday               5\n",
       "#digitalpay                5\n",
       "dtype: int64"
      ]
     },
     "execution_count": 118,
     "metadata": {},
     "output_type": "execute_result"
    },
    {
     "data": {
      "image/png": "[encoded data removed]",
      "text/plain": [
       "<Figure size 864x360 with 1 Axes>"
      ]
     },
     "metadata": {},
     "output_type": "display_data"
    }
   ],
   "source": [
    "hashtags = []\n",
    "for row in doc_clean:\n",
    "    row_tags = [term for term in row.split(' ') \n",
    "                if term.startswith('#')]\n",
    "    #print(row_tags)\n",
    "    if len(row_tags):\n",
    "        hashtags.extend(row_tags)\n",
    "\n",
    "hashtags = pd.Series(hashtags)\n",
    "hashtags.value_counts().head(20)[::-1].plot.barh(color='steelblue',\n",
    "                                                figsize=(12,5))\n",
    "hashtags.value_counts().head(20)"
   ]
  },
  {
   "cell_type": "code",
   "execution_count": 102,
   "metadata": {},
   "outputs": [
    {
     "name": "stdout",
     "output_type": "stream",
     "text": [
      "895 µs ± 12.4 µs per loop (mean ± std. dev. of 7 runs, 1000 loops each)\n"
     ]
    }
   ],
   "source": [
    "%timeit modi['date'] = pd.to_datetime(modi['created_at'], format='%Y-%m-%d %H:%M:%S')\n"
   ]
  },
  {
   "cell_type": "code",
   "execution_count": 105,
   "metadata": {},
   "outputs": [
    {
     "data": {
      "text/plain": [
       "(Timestamp('2016-03-09 12:22:10'), Timestamp('2017-01-31 11:00:07'))"
      ]
     },
     "execution_count": 105,
     "metadata": {},
     "output_type": "execute_result"
    }
   ],
   "source": [
    "modi['date'] = pd.to_datetime(modi['created_at'],\n",
    "                              format='%Y-%m-%d %H:%M:%S')\n",
    "modi['date'].min(), modi['date'].max()"
   ]
  },
  {
   "cell_type": "code",
   "execution_count": 107,
   "metadata": {},
   "outputs": [
    {
     "data": {
      "text/plain": [
       "0    2017_01\n",
       "1    2017_01\n",
       "2    2017_01\n",
       "3    2017_01\n",
       "4    2017_01\n",
       "Name: year_month, dtype: object"
      ]
     },
     "execution_count": 107,
     "metadata": {},
     "output_type": "execute_result"
    }
   ],
   "source": [
    "modi['year_month'] = modi['date'].dt.strftime('%Y_%m')\n",
    "#modi['year_month'].head()"
   ]
  },
  {
   "cell_type": "code",
   "execution_count": 123,
   "metadata": {},
   "outputs": [
    {
     "data": {
      "text/plain": [
       "<matplotlib.axes._subplots.AxesSubplot at 0x1a24b9f3c8>"
      ]
     },
     "execution_count": 123,
     "metadata": {},
     "output_type": "execute_result"
    },
    {
     "data": {
      "image/png": "[encoded data removed]",
      "text/plain": [
       "<Figure size 432x288 with 1 Axes>"
      ]
     },
     "metadata": {},
     "output_type": "display_data"
    }
   ],
   "source": [
    "#x = 'this is text mining class'\n",
    "#pd.Series(x).str.contains('text')\n",
    "#'text' in x\n",
    "hashtag = '#mannkibaat' \n",
    "modi['is_hashtag'] = doc_clean.str.contains(hashtag)\n",
    "modi.groupby('year_month')['is_hashtag'].sum().plot.line()"
   ]
  },
  {
   "cell_type": "markdown",
   "metadata": {},
   "source": [
    "## Document Term Matrix"
   ]
  },
  {
   "cell_type": "code",
   "execution_count": 124,
   "metadata": {},
   "outputs": [],
   "source": [
    "from sklearn.feature_extraction.text import CountVectorizer"
   ]
  },
  {
   "cell_type": "code",
   "execution_count": 129,
   "metadata": {},
   "outputs": [
    {
     "data": {
      "text/html": [
       "<div>\n",
       "<style scoped>\n",
       "    .dataframe tbody tr th:only-of-type {\n",
       "        vertical-align: middle;\n",
       "    }\n",
       "\n",
       "    .dataframe tbody tr th {\n",
       "        vertical-align: top;\n",
       "    }\n",
       "\n",
       "    .dataframe thead th {\n",
       "        text-align: right;\n",
       "    }\n",
       "</style>\n",
       "<table border=\"1\" class=\"dataframe\">\n",
       "  <thead>\n",
       "    <tr style=\"text-align: right;\">\n",
       "      <th></th>\n",
       "      <th>Unnamed: 0</th>\n",
       "      <th>asin</th>\n",
       "      <th>helpful</th>\n",
       "      <th>overall</th>\n",
       "      <th>reviewText</th>\n",
       "      <th>reviewTime</th>\n",
       "      <th>reviewerID</th>\n",
       "      <th>reviewerName</th>\n",
       "      <th>summary</th>\n",
       "      <th>unixReviewTime</th>\n",
       "    </tr>\n",
       "  </thead>\n",
       "  <tbody>\n",
       "    <tr>\n",
       "      <th>0</th>\n",
       "      <td>0</td>\n",
       "      <td>0528881469</td>\n",
       "      <td>[0, 0]</td>\n",
       "      <td>5.0</td>\n",
       "      <td>We got this GPS for my husband who is an (OTR)...</td>\n",
       "      <td>06 2, 2013</td>\n",
       "      <td>AO94DHGC771SJ</td>\n",
       "      <td>amazdnu</td>\n",
       "      <td>Gotta have GPS!</td>\n",
       "      <td>1.370131e+09</td>\n",
       "    </tr>\n",
       "  </tbody>\n",
       "</table>\n",
       "</div>"
      ],
      "text/plain": [
       "   Unnamed: 0        asin helpful  overall  \\\n",
       "0           0  0528881469  [0, 0]      5.0   \n",
       "\n",
       "                                          reviewText  reviewTime  \\\n",
       "0  We got this GPS for my husband who is an (OTR)...  06 2, 2013   \n",
       "\n",
       "      reviewerID reviewerName          summary  unixReviewTime  \n",
       "0  AO94DHGC771SJ      amazdnu  Gotta have GPS!    1.370131e+09  "
      ]
     },
     "execution_count": 129,
     "metadata": {},
     "output_type": "execute_result"
    }
   ],
   "source": [
    "amazon = pd.read_csv('/datasets/amazon_reviews.csv')\n",
    "amazon.shape\n",
    "amazon.head(1)"
   ]
  },
  {
   "cell_type": "code",
   "execution_count": 135,
   "metadata": {},
   "outputs": [],
   "source": [
    "text_col = 'reviewText'\n",
    "doc = amazon[text_col].fillna('').str.lower()\n",
    "doc_clean = doc.str.replace('[^a-z #@]', '')\n",
    "stopwords = nltk.corpus.stopwords.words('english')\n",
    "custom_stop_words = []\n",
    "stopwords.extend(custom_stop_words)\n",
    "\n",
    "def row_clean(v):\n",
    "    terms_v = v.split(' ')\n",
    "    terms_v = [term for term in terms_v if term not in stopwords]\n",
    "    # 2. Identify root of each word\n",
    "    stemmer = PorterStemmer()\n",
    "    #terms_v = [stemmer.stem(term) for term in terms_v]\n",
    "    return ' '.join(terms_v)\n",
    "doc_clean = doc_clean.apply(lambda v: row_clean(v))\n",
    "#doc_clean.head()"
   ]
  },
  {
   "cell_type": "code",
   "execution_count": 134,
   "metadata": {},
   "outputs": [
    {
     "data": {
      "text/plain": [
       "<999x9444 sparse matrix of type '<class 'numpy.int64'>'\n",
       "\twith 55738 stored elements in Compressed Sparse Row format>"
      ]
     },
     "execution_count": 134,
     "metadata": {},
     "output_type": "execute_result"
    }
   ],
   "source": [
    "dtm_func = CountVectorizer()\n",
    "dtm_func.fit(doc_clean)\n",
    "\n",
    "dtm_matrix = dtm_func.transform(doc_clean)\n",
    "dtm_matrix"
   ]
  },
  {
   "cell_type": "code",
   "execution_count": 141,
   "metadata": {},
   "outputs": [
    {
     "data": {
      "text/plain": [
       "(999, 9444)"
      ]
     },
     "execution_count": 141,
     "metadata": {},
     "output_type": "execute_result"
    }
   ],
   "source": [
    "df_dtm = pd.DataFrame(dtm_matrix.toarray(),\n",
    "                      columns=dtm_func.get_feature_names())\n",
    "df_dtm.shape"
   ]
  },
  {
   "cell_type": "markdown",
   "metadata": {},
   "source": [
    "### Questions\n",
    "1. Percentage of zeros in df_dtm \n",
    "2. Identify top 25 terms and visualize using a horizontal bar chart\n",
    "3. Identify biggest review"
   ]
  },
  {
   "cell_type": "markdown",
   "metadata": {},
   "source": [
    "### 1. Percentage of zeros in df_dtm"
   ]
  },
  {
   "cell_type": "code",
   "execution_count": 146,
   "metadata": {},
   "outputs": [
    {
     "data": {
      "text/plain": [
       "99.40921438168367"
      ]
     },
     "execution_count": 146,
     "metadata": {},
     "output_type": "execute_result"
    }
   ],
   "source": [
    "(df_dtm == 0).sum().sum() / (df_dtm.shape[0] * df_dtm.shape[1]) * 100"
   ]
  },
  {
   "cell_type": "markdown",
   "metadata": {},
   "source": [
    "### 2. Identify top 25 terms and visualize using a horizontal bar chart"
   ]
  },
  {
   "cell_type": "code",
   "execution_count": 166,
   "metadata": {},
   "outputs": [
    {
     "data": {
      "text/plain": [
       "Text(0,0.5,'Terms')"
      ]
     },
     "execution_count": 166,
     "metadata": {},
     "output_type": "execute_result"
    },
    {
     "data": {
      "image/png": "[encoded data removed]",
      "text/plain": [
       "<Figure size 864x360 with 1 Axes>"
      ]
     },
     "metadata": {},
     "output_type": "display_data"
    }
   ],
   "source": [
    "pt = df_dtm.sum().sort_values(ascending=False).head(25)[::-1].plot.barh(\n",
    "    color='steelblue',\n",
    "    figsize=(12,5),\n",
    "    title='Bag of word analysis',\n",
    "    )\n",
    "plt.xlabel('Frequency')\n",
    "plt.ylabel('Terms')"
   ]
  },
  {
   "cell_type": "markdown",
   "metadata": {},
   "source": [
    "### 3. Identify biggest review"
   ]
  },
  {
   "cell_type": "code",
   "execution_count": 168,
   "metadata": {},
   "outputs": [
    {
     "data": {
      "text/plain": [
       "387    1064\n",
       "dtype: int64"
      ]
     },
     "execution_count": 168,
     "metadata": {},
     "output_type": "execute_result"
    }
   ],
   "source": [
    "# 274, 387\n",
    "df_dtm.sum(axis=1).sort_values(ascending=False).head(1)"
   ]
  },
  {
   "cell_type": "code",
   "execution_count": 174,
   "metadata": {},
   "outputs": [
    {
     "data": {
      "text/plain": [
       "'EDIT - Update 1.4.1 (12/21/2011): BIG update rolled out on December 14th, with lots of big changes, '"
      ]
     },
     "execution_count": 174,
     "metadata": {},
     "output_type": "execute_result"
    }
   ],
   "source": [
    "amazon.loc[387, 'reviewText'][:100]"
   ]
  },
  {
   "cell_type": "markdown",
   "metadata": {},
   "source": [
    "## Word Similarity"
   ]
  },
  {
   "cell_type": "code",
   "execution_count": 178,
   "metadata": {},
   "outputs": [
    {
     "data": {
      "text/plain": [
       "array([[1., 1.],\n",
       "       [1., 1.]])"
      ]
     },
     "execution_count": 178,
     "metadata": {},
     "output_type": "execute_result"
    }
   ],
   "source": [
    "x = [1, 2, 3]\n",
    "y = [1, 2, 3]\n",
    "\n",
    "from sklearn.metrics.pairwise import cosine_similarity\n",
    "cosine_similarity([x, y])"
   ]
  },
  {
   "cell_type": "code",
   "execution_count": null,
   "metadata": {},
   "outputs": [],
   "source": [
    "cosine_similarity([df_dtm['nook'], df_dtm['tablet']])\n",
    "\n",
    "terms_similarity = pd.DataFrame(cosine_similarity(df_dtm.T),\n",
    "                                columns=df_dtm.columns,\n",
    "                                index=df_dtm.columns)\n",
    "\n",
    "def get_neighbors(word, terms_similarity):\n",
    "    \n",
    "    top5_similar_words = terms_similarity[word].sort_values(\n",
    "        ascending=False).drop(word).head(5).index\n",
    "    return top5_similar_words"
   ]
  },
  {
   "cell_type": "code",
   "execution_count": 204,
   "metadata": {},
   "outputs": [
    {
     "data": {
      "text/plain": [
       "Index(['like', 'touch', 'reading', 'also', 'much'], dtype='object')"
      ]
     },
     "execution_count": 204,
     "metadata": {},
     "output_type": "execute_result"
    }
   ],
   "source": [
    "get_neighbors('screen', terms_similarity)"
   ]
  },
  {
   "cell_type": "markdown",
   "metadata": {},
   "source": [
    "### Bigrams & Trigrams"
   ]
  },
  {
   "cell_type": "code",
   "execution_count": 209,
   "metadata": {},
   "outputs": [
    {
     "data": {
      "text/plain": [
       "(999, 57447)"
      ]
     },
     "execution_count": 209,
     "metadata": {},
     "output_type": "execute_result"
    }
   ],
   "source": [
    "bigram_dtm_func = CountVectorizer(ngram_range=(2,2))\n",
    "bigram_dtm_func.fit(doc_clean)\n",
    "\n",
    "bigram_dtm_matrix = bigram_dtm_func.transform(doc_clean)\n",
    "bigram_df_dtm = pd.DataFrame(bigram_dtm_matrix.toarray(),\n",
    "                      columns=bigram_dtm_func.get_feature_names())\n",
    "bigram_df_dtm.shape"
   ]
  },
  {
   "cell_type": "code",
   "execution_count": 210,
   "metadata": {},
   "outputs": [
    {
     "data": {
      "text/plain": [
       "<matplotlib.axes._subplots.AxesSubplot at 0x1a3fe4a400>"
      ]
     },
     "execution_count": 210,
     "metadata": {},
     "output_type": "execute_result"
    },
    {
     "data": {
      "image/png": "[encoded data removed]",
      "text/plain": [
       "<Figure size 432x288 with 1 Axes>"
      ]
     },
     "metadata": {},
     "output_type": "display_data"
    }
   ],
   "source": [
    "bigram_df_dtm.sum().sort_values(ascending=False).head(25)[::-1].plot.barh()"
   ]
  },
  {
   "cell_type": "markdown",
   "metadata": {},
   "source": [
    "# Questions\n",
    "### Kaggle\n",
    "1. Build decision tree with max_depth=30, random forest & ada boost with 300 estimators\n",
    "2. Plot roc for all three models in a single graph\n",
    "3. Compare and see which model is good for your data\n",
    "4. Predict the test data using the best model\n",
    "5. Submit and increase your F1 score\n",
    "\n",
    "\n",
    "### Amazon data\n",
    "6. Correlated Features\n",
    "    - Identify top 50 unigrams\n",
    "    - Extract the relevant columns from DTM\n",
    "    - Create a correlation matrix. Identify highly correlated features"
   ]
  },
  {
   "cell_type": "markdown",
   "metadata": {},
   "source": [
    "Description\n",
    "- Going to use this for my academic purpose\n",
    "- Will be building social media monitoring dashboard\n",
    "- Will be performing sentiment analysis, topic modelling etc\n",
    "- "
   ]
  }
 ],
 "metadata": {
  "kernelspec": {
   "display_name": "Python 3",
   "language": "python",
   "name": "python3"
  },
  "language_info": {
   "codemirror_mode": {
    "name": "ipython",
    "version": 3
   },
   "file_extension": ".py",
   "mimetype": "text/x-python",
   "name": "python",
   "nbconvert_exporter": "python",
   "pygments_lexer": "ipython3",
   "version": "3.6.5"
  }
 },
 "nbformat": 4,
 "nbformat_minor": 2
}
