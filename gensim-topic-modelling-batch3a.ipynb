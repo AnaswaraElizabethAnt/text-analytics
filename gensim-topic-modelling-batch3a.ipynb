{
 "cells": [
  {
   "cell_type": "code",
   "execution_count": 29,
   "metadata": {},
   "outputs": [],
   "source": [
    "import pandas as pd\n",
    "import nltk\n",
    "import gensim"
   ]
  },
  {
   "cell_type": "code",
   "execution_count": 25,
   "metadata": {},
   "outputs": [],
   "source": [
    "amazon = pd.read_csv('/datasets/amazon_reviews.csv')"
   ]
  },
  {
   "cell_type": "code",
   "execution_count": 26,
   "metadata": {},
   "outputs": [],
   "source": [
    "reviews = amazon['reviewText'].str.lower()\n",
    "reviews = reviews.str.replace('[^a-z ]', '')"
   ]
  },
  {
   "cell_type": "code",
   "execution_count": 30,
   "metadata": {},
   "outputs": [
    {
     "name": "stdout",
     "output_type": "stream",
     "text": [
      "Dictionary(9581 unique tokens: ['a', 'about', 'addresses', 'all', 'an']...)\n"
     ]
    }
   ],
   "source": [
    "docs = []\n",
    "for review in reviews.dropna():\n",
    "    words = nltk.word_tokenize(review)\n",
    "    docs.append(words)\n",
    "dictionary = gensim.corpora.Dictionary(docs)\n",
    "print(dictionary)\n",
    "corpus = [dictionary.doc2bow(doc) for doc in docs]"
   ]
  },
  {
   "cell_type": "code",
   "execution_count": 32,
   "metadata": {},
   "outputs": [],
   "source": [
    "tfidf = gensim.models.TfidfModel(corpus)"
   ]
  },
  {
   "cell_type": "code",
   "execution_count": 34,
   "metadata": {},
   "outputs": [
    {
     "data": {
      "text/plain": [
       "[(0,\n",
       "  '0.042*\"the\" + 0.032*\"to\" + 0.030*\"and\" + 0.029*\"a\" + 0.022*\"it\" + 0.021*\"i\" + 0.019*\"is\" + 0.014*\"for\" + 0.013*\"you\" + 0.013*\"of\"'),\n",
       " (1,\n",
       "  '0.060*\"the\" + 0.033*\"i\" + 0.029*\"and\" + 0.026*\"to\" + 0.025*\"it\" + 0.023*\"a\" + 0.015*\"is\" + 0.012*\"for\" + 0.012*\"of\" + 0.011*\"nook\"'),\n",
       " (2,\n",
       "  '0.050*\"the\" + 0.029*\"to\" + 0.023*\"a\" + 0.022*\"i\" + 0.021*\"and\" + 0.016*\"that\" + 0.015*\"for\" + 0.015*\"of\" + 0.013*\"my\" + 0.012*\"is\"')]"
      ]
     },
     "execution_count": 34,
     "metadata": {},
     "output_type": "execute_result"
    }
   ],
   "source": [
    "lda = gensim.models.LdaModel(corpus, id2word=dictionary, num_topics=3)\n",
    "lda.print_topics()"
   ]
  }
 ],
 "metadata": {
  "kernelspec": {
   "display_name": "Python 3",
   "language": "python",
   "name": "python3"
  },
  "language_info": {
   "codemirror_mode": {
    "name": "ipython",
    "version": 3
   },
   "file_extension": ".py",
   "mimetype": "text/x-python",
   "name": "python",
   "nbconvert_exporter": "python",
   "pygments_lexer": "ipython3",
   "version": "3.6.5"
  }
 },
 "nbformat": 4,
 "nbformat_minor": 2
}
